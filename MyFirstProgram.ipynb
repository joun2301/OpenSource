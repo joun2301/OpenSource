{
  "nbformat": 4,
  "nbformat_minor": 0,
  "metadata": {
    "colab": {
      "provenance": [],
      "authorship_tag": "ABX9TyMVuCYWP21VxSSENjeHA7Qg",
      "include_colab_link": true
    },
    "kernelspec": {
      "name": "python3",
      "display_name": "Python 3"
    },
    "language_info": {
      "name": "python"
    }
  },
  "cells": [
    {
      "cell_type": "markdown",
      "metadata": {
        "id": "view-in-github",
        "colab_type": "text"
      },
      "source": [
        "<a href=\"https://colab.research.google.com/github/joun2301/OpenSource/blob/master/MyFirstProgram.ipynb\" target=\"_parent\"><img src=\"https://colab.research.google.com/assets/colab-badge.svg\" alt=\"Open In Colab\"/></a>"
      ]
    },
    {
      "cell_type": "markdown",
      "source": [
        "구구단 출력 이제는 쉽다 !"
      ],
      "metadata": {
        "id": "vwKH0LDiGrgT"
      }
    },
    {
      "cell_type": "code",
      "execution_count": null,
      "metadata": {
        "id": "SaJ22WdRBTwO"
      },
      "outputs": [],
      "source": [
        "import tensorflow as tf\n",
        "import numpy as np\n",
        "\n",
        "print('This program is my first program written by Google Colab')\n",
        "\n",
        "print(tf.__version__)\n",
        "print(np.__version__)\n",
        "\n",
        "a = 10\n",
        "b = 5\n",
        "\n",
        "print(a+b)\n",
        "print(a-b)\n",
        "print(a*b)\n",
        "print(a/b)\n",
        "\n",
        "for i in range(1, 10):\n",
        "    for j in range(1, 10):\n",
        "        print(i, '*', j, '=', i*j)\n",
        "    print()"
      ]
    },
    {
      "cell_type": "code",
      "source": [
        "import torch\n",
        "import torch.nn as nn\n",
        "\n",
        "device = 'cuda' if torch.cuda.is_available() else 'cpu'\n",
        "\n",
        "torch.manual_seed(2022)\n",
        "if device == 'cuda':\n",
        "    torch.cuda.manual_seed_all(2022)\n"
      ],
      "metadata": {
        "id": "mfUjs8PoJr_-"
      },
      "execution_count": 2,
      "outputs": []
    }
  ]
}